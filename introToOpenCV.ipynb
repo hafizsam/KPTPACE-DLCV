{
  "nbformat": 4,
  "nbformat_minor": 0,
  "metadata": {
    "colab": {
      "name": "introToOpenCV.ipynb",
      "provenance": [],
      "collapsed_sections": [],
      "mount_file_id": "1zw8_NRZcvE2x8vjvbgWKnxEPl6RxaUyY",
      "authorship_tag": "ABX9TyPhvLowG8SD7+Jmm1vc1vv9",
      "include_colab_link": true
    },
    "kernelspec": {
      "name": "python3",
      "display_name": "Python 3"
    },
    "language_info": {
      "name": "python"
    }
  },
  "cells": [
    {
      "cell_type": "markdown",
      "metadata": {
        "id": "view-in-github",
        "colab_type": "text"
      },
      "source": [
        "<a href=\"https://colab.research.google.com/github/hafizsam/KPTPACE-DLCV/blob/main/introToOpenCV.ipynb\" target=\"_parent\"><img src=\"https://colab.research.google.com/assets/colab-badge.svg\" alt=\"Open In Colab\"/></a>"
      ]
    },
    {
      "cell_type": "code",
      "execution_count": null,
      "metadata": {
        "id": "Esnjehy3bFCw"
      },
      "outputs": [],
      "source": [
        "from google.colab import drive\n",
        "drive.mount('/content/gdrive')"
      ]
    },
    {
      "cell_type": "code",
      "source": [
        "!git clone https://gitfront.io/r/user-8948418/7v8eAoZ77xBD/KPTPACE-DLCV-Workshop.gitfront.git"
      ],
      "metadata": {
        "id": "1orSVPv_bSnz"
      },
      "execution_count": null,
      "outputs": []
    },
    {
      "cell_type": "code",
      "source": [
        "path = \"/content/KPTPACE-DLCV-Workshop.gitfront/220715_day3/04_Image_Enhancement/\""
      ],
      "metadata": {
        "id": "-UAqBmmSdZqa"
      },
      "execution_count": null,
      "outputs": []
    },
    {
      "cell_type": "code",
      "source": [
        "import cv2\n",
        "import numpy as np\n",
        "import matplotlib.pyplot as plt\n",
        "from PIL import Image \n",
        "%matplotlib inline\n",
        "import matplotlib\n",
        "matplotlib.rcParams['figure.figsize'] = (9.0, 9.0)\n",
        "from IPython.display import Image"
      ],
      "metadata": {
        "id": "HC1qbQMFve5x"
      },
      "execution_count": null,
      "outputs": []
    },
    {
      "cell_type": "code",
      "source": [
        "# Read image as gray scale.\n",
        "cb_img = cv2.imread(path+\"checkerboard_18x18.png\",0)\n",
        "\n",
        "# Set color map to gray scale for proper rendering.\n",
        "plt.imshow(cb_img, cmap='gray')\n",
        "print(cb_img)"
      ],
      "metadata": {
        "id": "ZC6Wq_tDwS2v"
      },
      "execution_count": null,
      "outputs": []
    },
    {
      "cell_type": "code",
      "source": [
        "cb_img_copy = cb_img.copy()\n",
        "cb_img_copy[2,2] = 200\n",
        "cb_img_copy[2,3] = 200\n",
        "cb_img_copy[3,2] = 200\n",
        "cb_img_copy[3,3] = 200\n",
        "print(cb_img_copy)\n",
        "plt.imshow(cb_img_copy,cmap=\"gray\")"
      ],
      "metadata": {
        "id": "gljq0qyAx7aC"
      },
      "execution_count": null,
      "outputs": []
    },
    {
      "cell_type": "code",
      "source": [
        "desired_width = 100\n",
        "aspect_ratio = desired_width / cropped_region.shape[1]\n",
        "desired_height = int(cropped_region.shape[0] * aspect_ratio)\n",
        "dim = (desired_width, desired_height)\n",
        "\n",
        "img_NZ_bgr = cv2.imread(path+\"New_Zealand_Boat.jpg\",cv2.IMREAD_COLOR)\n",
        "cropped_region_rgb = img_NZ_bgr[200:400, 300:600,::-1]\n",
        "resized_cropped_region_2x = cv2.resize(cropped_region_rgb,dsize=dim,fx=2, fy=2)\n",
        "plt.imshow(resized_cropped_region_2x)\n",
        "\n",
        "resized_cropped_region_2x = resized_cropped_region_2x[:,:,::-1]\n",
        "cv2.imwrite(\"resized_cropped_region_2x.png\", resized_cropped_region_2x)\n",
        "Image(filename=path+'resized_cropped_region_2x.png')\n"
      ],
      "metadata": {
        "id": "e8kAFAuEzGRm"
      },
      "execution_count": null,
      "outputs": []
    },
    {
      "cell_type": "code",
      "source": [
        "image = cv2.imread(path+\"Apollo_11_Launch.jpg\", cv2.IMREAD_COLOR)\n",
        "imageTest = image.copy()\n",
        "\n",
        "#Draw Circle\n",
        "cv2.circle(imageTest, (400,630), 30, (0, 0, 255), thickness=5, lineType=cv2.LINE_AA);\n",
        "\n",
        "#Draw Rectangle\n",
        "cv2.rectangle(imageTest, (500, 600), (700, 100), (255, 0, 0), thickness=3, lineType=cv2.LINE_AA);\n",
        "\n",
        "#Add Text\n",
        "text = \"Apollo 11 Saturn V Launch, July 16, 1969\"\n",
        "fontScale = 1.9\n",
        "fontFace = cv2.FONT_HERSHEY_PLAIN\n",
        "fontColor = (0, 255, 0)\n",
        "fontThickness = 2\n",
        "\n",
        "cv2.putText(imageTest, text, (600, 700), fontFace, fontScale, fontColor, fontThickness, cv2.LINE_8);\n",
        "\n",
        "# Display the image\n",
        "plt.imshow(imageTest[:,:,::-1])"
      ],
      "metadata": {
        "id": "4msTTwIxzofO"
      },
      "execution_count": null,
      "outputs": []
    },
    {
      "cell_type": "code",
      "source": [
        "img_bgr = cv2.imread(path + \"New_Zealand_Coast.jpg\",cv2.IMREAD_COLOR)\n",
        "img_rgb = cv2.cvtColor(img_bgr, cv2.COLOR_BGR2RGB)\n",
        "\n",
        "# Brightness(addition)\n",
        "matrix = np.ones(img_rgb.shape, dtype = \"uint8\") * 50\n",
        "img_rgb_brighter = cv2.add(img_rgb, matrix)\n",
        "img_rgb_darker   = cv2.subtract(img_rgb, matrix)\n",
        "\n",
        "# Contrast(multiplication)\n",
        "matrix1 = np.ones(img_rgb.shape) * .8\n",
        "matrix2 = np.ones(img_rgb.shape) * 1.2\n",
        "img_rgb_lower  = np.uint8(cv2.multiply(np.float64(img_rgb), matrix1))\n",
        "img_rgb_higher = np.uint8(np.clip(cv2.multiply(np.float64(img_rgb), matrix2),0,255)) #Using np.clip to handle overflow\n",
        "\n",
        "# Show the images\n",
        "\n",
        "plt.figure(figsize=[18,5])\n",
        "plt.subplot(131); plt.imshow(img_rgb_darker);  plt.title(\"Darker\");\n",
        "plt.subplot(132); plt.imshow(img_rgb);         plt.title(\"Original\");\n",
        "plt.subplot(133); plt.imshow(img_rgb_brighter);plt.title(\"Brighter\");\n",
        "plt.subplot(231); plt.imshow(img_rgb_lower);  plt.title(\"Lower Contrast\");\n",
        "plt.subplot(232); plt.imshow(img_rgb);         plt.title(\"Original\");\n",
        "plt.subplot(233); plt.imshow(img_rgb_higher);plt.title(\"Higher Contrast\");\n"
      ],
      "metadata": {
        "id": "2_ThvvlQ5TkM"
      },
      "execution_count": null,
      "outputs": []
    },
    {
      "cell_type": "code",
      "source": [
        "img_read = cv2.imread(path+\"building-windows.jpg\", cv2.IMREAD_GRAYSCALE)\n",
        "retval, img_thresh = cv2.threshold(img_read, 100, 255, cv2.THRESH_BINARY)\n",
        "\n",
        "# Show the images\n",
        "plt.figure(figsize=[18,5])\n",
        "plt.subplot(121); plt.imshow(img_read, cmap=\"gray\");         plt.title(\"Original\");\n",
        "plt.subplot(122); plt.imshow(img_thresh, cmap=\"gray\");       plt.title(\"Thresholded\");\n",
        "\n",
        "print(img_thresh.shape)"
      ],
      "metadata": {
        "id": "qUuEY5v393wi"
      },
      "execution_count": null,
      "outputs": []
    },
    {
      "cell_type": "code",
      "source": [
        "# Read the original image\n",
        "img_read = cv2.imread(path+\"Piano_Sheet_Music.png\", cv2.IMREAD_GRAYSCALE)\n",
        "\n",
        "# Perform global thresholding\n",
        "retval, img_thresh_gbl_1 = cv2.threshold(img_read,50, 255, cv2.THRESH_BINARY)\n",
        "\n",
        "# Perform global thresholding\n",
        "retval, img_thresh_gbl_2 = cv2.threshold(img_read,130, 255, cv2.THRESH_BINARY)\n",
        "\n",
        "# Perform adaptive thresholding\n",
        "img_thresh_adp = cv2.adaptiveThreshold(img_read, 255, cv2.ADAPTIVE_THRESH_MEAN_C, cv2.THRESH_BINARY, 11, 7)\n",
        "\n",
        "# Show the images\n",
        "plt.figure(figsize=[6,5])\n",
        "plt.subplot(221); plt.imshow(img_read,        cmap=\"gray\");  plt.title(\"Original\");\n",
        "plt.subplot(222); plt.imshow(img_thresh_gbl_1,cmap=\"gray\");  plt.title(\"Thresholded (global: 50)\");\n",
        "plt.subplot(223); plt.imshow(img_thresh_gbl_2,cmap=\"gray\");  plt.title(\"Thresholded (global: 130)\");\n",
        "plt.subplot(224); plt.imshow(img_thresh_adp,  cmap=\"gray\");  plt.title(\"Thresholded (adaptive)\");"
      ],
      "metadata": {
        "id": "c8keBpAWFwNG"
      },
      "execution_count": null,
      "outputs": []
    },
    {
      "cell_type": "code",
      "source": [
        "# Bitwise Operation\n",
        "\n",
        "img_rec = cv2.imread(path+\"rectangle.jpg\", cv2.IMREAD_GRAYSCALE)\n",
        "\n",
        "img_cir = cv2.imread(path+\"circle.jpg\", cv2.IMREAD_GRAYSCALE)\n",
        "\n",
        "plt.figure(figsize=[20,5])\n",
        "plt.subplot(231);plt.imshow(img_rec,cmap='gray')\n",
        "plt.subplot(232);plt.imshow(img_cir,cmap='gray')\n",
        "print(img_rec.shape)\n",
        "\n",
        "# AND Operator\n",
        "\n",
        "andResult = cv2.bitwise_and(img_rec, img_cir, mask = None)\n",
        "plt.subplot(234);plt.imshow(andResult,cmap='gray')\n",
        "\n",
        "# OR Operator\n",
        "orResult = cv2.bitwise_or(img_rec, img_cir, mask = None)\n",
        "plt.subplot(235);plt.imshow(orResult,cmap='gray')\n",
        "\n",
        "# XOR Operator\n",
        "result = cv2.bitwise_xor(img_rec, img_cir, mask = None)\n",
        "plt.subplot(236);plt.imshow(result,cmap='gray')"
      ],
      "metadata": {
        "colab": {
          "base_uri": "https://localhost:8080/",
          "height": 306
        },
        "id": "FujW2LbVGKbR",
        "outputId": "3353d5c7-fc84-41ff-c5b5-25cfa532dc62"
      },
      "execution_count": null,
      "outputs": [
        {
          "output_type": "stream",
          "name": "stdout",
          "text": [
            "(200, 499)\n"
          ]
        },
        {
          "output_type": "execute_result",
          "data": {
            "text/plain": [
              "<matplotlib.image.AxesImage at 0x7f6ab6383390>"
            ]
          },
          "metadata": {},
          "execution_count": 12
        },
        {
          "output_type": "display_data",
          "data": {
            "text/plain": [
              "<Figure size 1440x360 with 5 Axes>"
            ],
            "image/png": "[encoded data removed]"
          },
          "metadata": {
            "needs_background": "light"
          }
        }
      ]
    },
    {
      "cell_type": "code",
      "source": [
        ""
      ],
      "metadata": {
        "id": "lCq-qpE9Ga_-"
      },
      "execution_count": null,
      "outputs": []
    }
  ]
}